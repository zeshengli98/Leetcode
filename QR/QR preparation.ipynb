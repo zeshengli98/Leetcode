{
 "cells": [
  {
   "cell_type": "markdown",
   "metadata": {
    "pycharm": {
     "name": "#%%\n"
    }
   },
   "source": [
    "# Quantitative Researcher Interview Preparation\n",
    "\n",
    "#### Abstract\n",
    "This is a document for preparing all kinds of probability, statistics, stochastic process, brain teasers for 2023 Quantitative Researcher position. I plan to aggregate and categorize the technical interview questions for myself to review and polish quantitative skills and mindset."
   ]
  },
  {
   "cell_type": "markdown",
   "metadata": {
    "pycharm": {
     "name": "#%% md\n"
    }
   },
   "source": [
    "## 1. Brain Teasers"
   ]
  },
  {
   "cell_type": "markdown",
   "metadata": {
    "pycharm": {
     "name": "#%% md\n"
    }
   },
   "source": [
    "### 1.1 Coin weighing"
   ]
  },
  {
   "cell_type": "markdown",
   "metadata": {
    "pycharm": {
     "name": "#%% md\n"
    }
   },
   "source": [
    "#### IMC sample test 08/25/2022\n",
    "You have 20 stacks of 30 coins each. The coins come into 2 types - U.S. coins, which weigh 25 grams each, and Canadian coins, which weigh 30 gram each.\n",
    "        \n",
    "Each Stack contains coins of only one type, and there is precisely one stack of Canadian coins. You have a digital scale which can tell you the exact weight of any combination of coins.\n",
    "        \n",
    "What is the minimum number of measurements you need to perform to guarantee that you find the stack of Canadian coins?\n",
    "\n",
    "##### Solution\n",
    "**One time.** I can place total 190 coins on the digital scale, 1 from the first stack, 2 from the second stack ... 20 from the last stack. If we assume all the coins are U.S. coins, we will get 25\\*190 = 4750grams on the scale, but this can't happen because there is exactly one stack of coins belongs to Canadian. Therefore, we can read the total number of grams and see the difference between the actual number and the ideal number (4750), so we can compute the difference and divide by 5 to get the number of Canadian coins in the stack."
   ]
  },
  {
   "cell_type": "markdown",
   "metadata": {
    "pycharm": {
     "name": "#%% md\n"
    }
   },
   "source": [
    "## 2. Probability"
   ]
  },
  {
   "cell_type": "markdown",
   "metadata": {
    "pycharm": {
     "name": "#%% md\n"
    }
   },
   "source": [
    "### 2.1 Random Variable\n",
    "Four independent random variable $X_i, 1 \\le i \\le 4$ are log-normally distributed, such that $lnX_i$ has mean 0.5 and variance 1.\n",
    "\n",
    "Which of the following is closest to the probability that the product of the $X_i$ is at least 50?\n",
    "\n",
    "##### Solution\n",
    "**33%**\n",
    "\n",
    "From definition, we know $lnX_i \\sim N(\\mu_i, \\sigma_i)$, so $\\sum LnX_i \\sim N(\\sum \\mu_i, \\sum \\sigma_i^2) $\n",
    "so the probability of$P(\\prod X_i > 50)$ can be combuted by:\n",
    "\n",
    "$$P(\\sum lnX_i > ln(50))$$\n",
    "\n",
    "$$P(\\frac{\\sum lnX_i - 4*0.5}{4*1} > \\frac{ln(50)-4*0.5}{4*1})$$\n",
    "\n",
    "\n",
    "$$P(\\phi > 0.478) \\approx 33\\%$$"
   ]
  },
  {
   "cell_type": "markdown",
   "metadata": {
    "pycharm": {
     "name": "#%%\n"
    }
   },
   "source": [
    "## 3. Permutation and combination\n",
    "### 3.1 IMC Q15\n",
    "You are going to go on a five days trip and there are 8 locations to visit over the course of trip. On any given day, you could visit as many of the locations as you want in any order that you desire.\n",
    "\n",
    "How many different schedules can you make for your trip given that you must visit each location exactly once?\n",
    "\n",
    "##### Solution\n",
    "$C^4_{12} * 8!$\n",
    "\n",
    "We can look seperately for this kind of problems.\n",
    "\n",
    "In how many ways can some or all of the 8 distinct coins be put into 5 pockets in order(all coins should be put into one pocket)?\n",
    "\n",
    "Let's simplify the problem first. \n",
    "1) Assume we don't consider the order we put coins into pocket. So each coin has 5 pockets to go, and second has 5 pockets to go as well... In total we have $5^8$ combinations.\n",
    "\n",
    "2) Therefore, if we add the order restriction here, we should consider permutations and combinations separately and apply the multiplication rule. Let's consider how many combinations of locations we have in five days. Suppose we have four blocks dividing the locations into five days, then we can calculate the number of combinations of blockers and locations: we have $C^4_{12}$ situations. We can then permute the order of all locations, so the final case will be $8! * C^4_{12}$ \n",
    "\n",
    "\n"
   ]
  },
  {
   "cell_type": "code",
   "execution_count": null,
   "metadata": {
    "pycharm": {
     "name": "#%%\n"
    }
   },
   "outputs": [],
   "source": []
  },
  {
   "cell_type": "code",
   "execution_count": null,
   "metadata": {
    "pycharm": {
     "name": "#%%\n"
    }
   },
   "outputs": [],
   "source": []
  },
  {
   "cell_type": "code",
   "execution_count": null,
   "metadata": {
    "pycharm": {
     "name": "#%%\n"
    }
   },
   "outputs": [],
   "source": []
  }
 ],
 "metadata": {
  "kernelspec": {
   "display_name": "Python 3 (ipykernel)",
   "language": "python",
   "name": "python3"
  },
  "language_info": {
   "codemirror_mode": {
    "name": "ipython",
    "version": 3
   },
   "file_extension": ".py",
   "mimetype": "text/x-python",
   "name": "python",
   "nbconvert_exporter": "python",
   "pygments_lexer": "ipython3",
   "version": "3.10.2"
  }
 },
 "nbformat": 4,
 "nbformat_minor": 1
}